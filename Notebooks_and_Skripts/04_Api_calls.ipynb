{
 "cells": [
  {
   "cell_type": "markdown",
   "id": "d0341354",
   "metadata": {},
   "source": [
    "# 1. Importamos librerías necesarias"
   ]
  },
  {
   "cell_type": "code",
   "execution_count": 1,
   "id": "041a54f3",
   "metadata": {},
   "outputs": [],
   "source": [
    "import requests\n",
    "import json\n",
    "import pandas as pd"
   ]
  },
  {
   "cell_type": "markdown",
   "id": "b1be8004",
   "metadata": {},
   "source": [
    "# 2. Comprobamos que todos los endpoints devuelven respuesta 200"
   ]
  },
  {
   "cell_type": "markdown",
   "id": "31f2a30d",
   "metadata": {},
   "source": [
    "    /                   [GET]\n",
    "    /user_list          [GET]\n",
    "    /product_list       [GET]\n",
    "    /ratingsbyuser      [GET]\n",
    "    /ratingsbyproduct   [GET]\n",
    "    /newuser            [POST]\n",
    "    /newproduct         [POST]\n",
    "    /newrating          [POST]"
   ]
  },
  {
   "cell_type": "code",
   "execution_count": 2,
   "id": "5ad2aec1",
   "metadata": {},
   "outputs": [
    {
     "data": {
      "text/plain": [
       "<Response [200]>"
      ]
     },
     "execution_count": 2,
     "metadata": {},
     "output_type": "execute_result"
    }
   ],
   "source": [
    "requests.get(\"http://127.0.0.1:5000/\")"
   ]
  },
  {
   "cell_type": "code",
   "execution_count": 3,
   "id": "bf5b43c8",
   "metadata": {},
   "outputs": [
    {
     "data": {
      "text/plain": [
       "<Response [200]>"
      ]
     },
     "execution_count": 3,
     "metadata": {},
     "output_type": "execute_result"
    }
   ],
   "source": [
    "requests.get(\"http://127.0.0.1:5000/user_list\")"
   ]
  },
  {
   "cell_type": "code",
   "execution_count": 4,
   "id": "488fceb7",
   "metadata": {},
   "outputs": [
    {
     "data": {
      "text/plain": [
       "<Response [200]>"
      ]
     },
     "execution_count": 4,
     "metadata": {},
     "output_type": "execute_result"
    }
   ],
   "source": [
    "requests.get(\"http://127.0.0.1:5000/product_list\")"
   ]
  },
  {
   "cell_type": "code",
   "execution_count": 5,
   "id": "b564cc98",
   "metadata": {},
   "outputs": [
    {
     "data": {
      "text/plain": [
       "<Response [200]>"
      ]
     },
     "execution_count": 5,
     "metadata": {},
     "output_type": "execute_result"
    }
   ],
   "source": [
    "usuario  = {\"user\"   : \"RichBo\"}\n",
    "requests.get(\"http://127.0.0.1:5000/ratingsbyuser\",data=usuario)"
   ]
  },
  {
   "cell_type": "code",
   "execution_count": 6,
   "id": "31cd6bed",
   "metadata": {},
   "outputs": [
    {
     "data": {
      "text/plain": [
       "<Response [200]>"
      ]
     },
     "execution_count": 6,
     "metadata": {},
     "output_type": "execute_result"
    }
   ],
   "source": [
    "producto  = {\"product\"   : \"Amazon Kindle Fire 5ft USB to Micro-USB Cable (works with most Micro-USB Tablets)\"}\n",
    "requests.get(\"http://127.0.0.1:5000/ratingsbyproduct\",data=producto)"
   ]
  },
  {
   "cell_type": "code",
   "execution_count": 7,
   "id": "5dd2d8b8",
   "metadata": {},
   "outputs": [
    {
     "data": {
      "text/plain": [
       "<Response [200]>"
      ]
     },
     "execution_count": 7,
     "metadata": {},
     "output_type": "execute_result"
    }
   ],
   "source": [
    "nuevo_usuario  = {\"new_user\"   : \"USUARIO DE PRUEBA\"}\n",
    "requests.post(\"http://127.0.0.1:5000/newuser\", data=nuevo_usuario)"
   ]
  },
  {
   "cell_type": "code",
   "execution_count": 8,
   "id": "59527fd4",
   "metadata": {},
   "outputs": [
    {
     "data": {
      "text/plain": [
       "<Response [200]>"
      ]
     },
     "execution_count": 8,
     "metadata": {},
     "output_type": "execute_result"
    }
   ],
   "source": [
    "nuevo_producto = {\"new_product\": \"PRODUCTO DE PRUEBA\" }\n",
    "requests.post(\"http://127.0.0.1:5000/newproduct\", data=nuevo_producto)"
   ]
  },
  {
   "cell_type": "code",
   "execution_count": 9,
   "id": "5361bdf2",
   "metadata": {},
   "outputs": [
    {
     "data": {
      "text/plain": [
       "<Response [200]>"
      ]
     },
     "execution_count": 9,
     "metadata": {},
     "output_type": "execute_result"
    }
   ],
   "source": [
    "nuevo_rating = {\"rating\"        : 3                 ,\n",
    "                \"rating_text\"  : \"RATING DE PRUEBA\" ,\n",
    "                \"rating_title\" : \"PRUEBA\"           ,\n",
    "                \"date\"         : \"2021-11-29\"       ,\n",
    "                \"recommended\"  : True               ,\n",
    "                \"Product_name\" : \"PRUEBA_RATING\"    ,\n",
    "                \"username\"     : \"PRUEBA_RATING\"    }\n",
    "    \n",
    "requests.post(\"http://127.0.0.1:5000/newrating\", data=nuevo_rating)"
   ]
  },
  {
   "cell_type": "markdown",
   "id": "d7daa66f",
   "metadata": {},
   "source": [
    "# 3. Comprobamos el contenido de la respuesta de cada Endpoint"
   ]
  },
  {
   "cell_type": "markdown",
   "id": "f3f7adc5",
   "metadata": {},
   "source": [
    "    /                   [GET]\n",
    "    /user_list          [GET]\n",
    "    /product_list       [GET]\n",
    "    /ratingsbyuser      [GET]\n",
    "    /ratingsbyproduct   [GET]\n",
    "    /newuser            [POST]\n",
    "    /newproduct         [POST]\n",
    "    /newrating          [POST]"
   ]
  },
  {
   "cell_type": "code",
   "execution_count": 10,
   "id": "a11dbfbb",
   "metadata": {},
   "outputs": [
    {
     "data": {
      "text/plain": [
       "b'HOLA MUNDO'"
      ]
     },
     "execution_count": 10,
     "metadata": {},
     "output_type": "execute_result"
    }
   ],
   "source": [
    "requests.get(\"http://127.0.0.1:5000/\").content"
   ]
  },
  {
   "cell_type": "code",
   "execution_count": 11,
   "id": "a5d19b76",
   "metadata": {},
   "outputs": [],
   "source": [
    "#requests.get(\"http://127.0.0.1:5000/user_list\").content\n",
    "#lo tapamos porque son 25.000 usuarios."
   ]
  },
  {
   "cell_type": "code",
   "execution_count": 12,
   "id": "4e002a3b",
   "metadata": {},
   "outputs": [
    {
     "data": {
      "text/plain": [
       "b'[\\n  {\\n    \"product\": \"All-New Fire HD 8 Tablet 8 HD Display Wi-Fi 16 GB - Includes Special Offers Magenta\"\\n  }, \\n  {\\n    \"product\": \"Kindle Oasis E-reader with Leather Charging Cover - Merlot 6 High-Resolution Display (300 ppi) Wi-Fi - Includes Special Offers\"\\n  }, \\n  {\\n    \"product\": \"All-New Fire HD 8 Tablet 8 HD Display Wi-Fi 32 GB - Includes Special Offers Magenta\"\\n  }, \\n  {\\n    \"product\": \"Fire HD 8 Tablet with Alexa 8 HD Display 32 GB Tangerine - with Special Offers\"\\n  }, \\n  {\\n    \"product\": \"Amazon 5W USB Official OEM Charger and Power Adapter for Fire Tablets and Kindle eReaders\"\\n  }, \\n  {\\n    \"product\": \"Amazon Kindle Fire Hd (3rd Generation) 8gb\"\\n  }, \\n  {\\n    \"product\": \"Fire Tablet 7 Display Wi-Fi 8 GB - Includes Special Offers Magenta\"\\n  }, \\n  {\\n    \"product\": \"Kindle Oasis E-reader with Leather Charging Cover - Black 6 High-Resolution Display (300 ppi) Wi-Fi - Includes Special Offers\"\\n  }, \\n  {\\n    \"product\": \"Amazon - Kindle Voyage - 4GB - Wi-Fi + 3G - Black\"\\n  }, \\n  {\\n    \"product\": \"Fire HD 8 Tablet with Alexa 8 HD Display 16 GB Tangerine - with Special Offers\"\\n  }, \\n  {\\n    \"product\": \"Amazon Standing Protective Case for Fire HD 6 (4th Generation) - Black\"\\n  }, \\n  {\\n    \"product\": \"Certified Refurbished Amazon Fire TV (Previous Generation - 1st)\"\\n  }, \\n  {\\n    \"product\": \"Brand New Amazon Kindle Fire 16gb 7 Ips Display Tablet Wifi 16 Gb Blue\"\\n  }, \\n  {\\n    \"product\": \"Amazon Kindle Touch Leather Case (4th Generation - 2011 Release) Olive Green\"\\n  }, \\n  {\\n    \"product\": \"Fire Kids Edition Tablet 7 Display Wi-Fi 16 GB Green Kid-Proof Case\"\\n  }, \\n  {\\n    \"product\": \"Amazon Kindle Paperwhite - eBook reader - 4 GB - 6 monochrome Paperwhite - touchscreen - Wi-Fi - black\"\\n  }, \\n  {\\n    \"product\": \"Kindle Voyage E-reader 6 High-Resolution Display (300 ppi) with Adaptive Built-in Light PagePress Sensors Wi-Fi - Includes Special Offers\"\\n  }, \\n  {\\n    \"product\": \"Certified Refurbished Amazon Fire TV Stick (Previous Generation - 1st)\"\\n  }, \\n  {\\n    \"product\": \"Kindle Paperwhite\"\\n  }, \\n  {\\n    \"product\": \"Amazon Fire Kids Edition Tablet 7 Display Wi-Fi 16 GB Blue Kid-Proof Case - Blue\"\\n  }, \\n  {\\n    \"product\": \"Kindle Paperwhite E-reader - White 6 High-Resolution Display (300 ppi) with Built-in Light Wi-Fi - Includes Special Offers\"\\n  }, \\n  {\\n    \"product\": \"Amazon Echo and Fire TV Power Adapter\"\\n  }, \\n  {\\n    \"product\": \"Amazon Fire Hd 8 8in Tablet 16gb Black B018szt3bk 6th Gen (2016) Android\"\\n  }, \\n  {\\n    \"product\": \"Certified Refurbished Amazon Fire TV with Alexa Voice Remote\"\\n  }, \\n  {\\n    \"product\": \"Amazon - Fire 16GB (5th Gen 2015 Release) - Black\"\\n  }, \\n  {\\n    \"product\": \"Fire Tablet 7 Display Wi-Fi 8 GB - Includes Special Offers Black\"\\n  }, \\n  {\\n    \"product\": \"Echo (White)\"\\n  }, \\n  {\\n    \"product\": \"Echo (Black)\"\\n  }, \\n  {\\n    \"product\": \"Amazon 9W PowerFast Official OEM USB Charger and Power Adapter for Fire Tablets and Kindle eReaders\"\\n  }, \\n  {\\n    \"product\": \"Amazon Fire Hd 6 Standing Protective Case(4th Generation - 2014 Release) Cayenne Red\"\\n  }, \\n  {\\n    \"product\": \"Amazon Fire Hd 10 Tablet Wi-Fi 16 Gb Special Offers - Silver Aluminum\"\\n  }, \\n  {\\n    \"product\": \"Amazon - Amazon Tap Portable Bluetooth and Wi-Fi Speaker - Black\"\\n  }, \\n  {\\n    \"product\": \"Coconut Water Red Tea 16.5 Oz (pack of 12)\"\\n  }, \\n  {\\n    \"product\": \"Amazon Fire Tv\"\\n  }, \\n  {\\n    \"product\": \"Kindle Dx Leather Cover Black (fits 9.7 Display Latest and 2nd Generation Kindle Dxs)\"\\n  }, \\n  {\\n    \"product\": \"Amazon Kindle Fire 5ft USB to Micro-USB Cable (works with most Micro-USB Tablets)\"\\n  }, \\n  {\\n    \"product\": \"New Amazon Kindle Fire Hd 9w Powerfast Adapter Charger + Micro Usb Angle Cable\"\\n  }, \\n  {\\n    \"product\": \"PRODUCTO DE PRUEBA\"\\n  }, \\n  {\\n    \"product\": \"PRUEBA_RATING\"\\n  }\\n]\\n'"
      ]
     },
     "execution_count": 12,
     "metadata": {},
     "output_type": "execute_result"
    }
   ],
   "source": [
    "requests.get(\"http://127.0.0.1:5000/product_list\").content"
   ]
  },
  {
   "cell_type": "code",
   "execution_count": 13,
   "id": "aeeb2d24",
   "metadata": {},
   "outputs": [
    {
     "data": {
      "text/plain": [
       "b'[\\n  {\\n    \"date\": \"Fri, 12 Aug 2016 00:00:00 GMT\", \\n    \"rating\": \"4\", \\n    \"rating_text\": \"Alexa is very good a quickly satisfying your music requests. The whole interface is novel and interesting to use and for guests who have not encountered Alexa previously. Sound quality is good but not top shelf. I purchased one for our son and son-in-law for Fathers Day. Finally about 3 weeks ago we bought one for ourselves. Net: worth purchasing.\", \\n    \"rating_title\": \"Alexa is very good at quickly finding your music\", \\n    \"recommended\": true, \\n    \"username\": \"RichBo\"\\n  }\\n]\\n'"
      ]
     },
     "execution_count": 13,
     "metadata": {},
     "output_type": "execute_result"
    }
   ],
   "source": [
    "usuario  = {\"user\"   : \"RichBo\"}\n",
    "requests.get(\"http://127.0.0.1:5000/ratingsbyuser\",data=usuario).content"
   ]
  },
  {
   "cell_type": "code",
   "execution_count": 14,
   "id": "13ac03e0",
   "metadata": {},
   "outputs": [
    {
     "data": {
      "text/plain": [
       "b'[\\n  {\\n    \"Product_name\": \"Amazon Kindle Fire 5ft USB to Micro-USB Cable (works with most Micro-USB Tablets)\", \\n    \"rating\": \"4\", \\n    \"rating_text\": \"Alexa is very good a quickly satisfying your music requests. The whole interface is novel and interesting to use and for guests who have not encountered Alexa previously. Sound quality is good but not top shelf. I purchased one for our son and son-in-law for Fathers Day. Finally about 3 weeks ago we bought one for ourselves. Net: worth purchasing.\", \\n    \"rating_title\": \"Alexa is very good at quickly finding your music\", \\n    \"recommended\": true\\n  }, \\n  {\\n    \"Product_name\": \"Amazon Kindle Fire 5ft USB to Micro-USB Cable (works with most Micro-USB Tablets)\", \\n    \"rating\": \"5\", \\n    \"rating_text\": \"Really enjoy our day to day interactions with Alexa\", \\n    \"rating_title\": \"So fun and useful\", \\n    \"recommended\": true\\n  }, \\n  {\\n    \"Product_name\": \"Amazon Kindle Fire 5ft USB to Micro-USB Cable (works with most Micro-USB Tablets)\", \\n    \"rating\": \"3\", \\n    \"rating_text\": \"Good speaker but limited if you don\\\\u00b4t have a big music collection. I wish it did more\", \\n    \"rating_title\": \"Good speaker\", \\n    \"recommended\": true\\n  }, \\n  {\\n    \"Product_name\": \"Amazon Kindle Fire 5ft USB to Micro-USB Cable (works with most Micro-USB Tablets)\", \\n    \"rating\": \"5\", \\n    \"rating_text\": \"Easy to use and very fun!! Use it for my PC speaker and it\\\\u00b4s awesome!!\", \\n    \"rating_title\": \"Very Cool\", \\n    \"recommended\": true\\n  }\\n]\\n'"
      ]
     },
     "execution_count": 14,
     "metadata": {},
     "output_type": "execute_result"
    }
   ],
   "source": [
    "producto  = {\"product\"   : \"Amazon Kindle Fire 5ft USB to Micro-USB Cable (works with most Micro-USB Tablets)\"}\n",
    "requests.get(\"http://127.0.0.1:5000/ratingsbyproduct\",data=producto).content"
   ]
  },
  {
   "cell_type": "code",
   "execution_count": 15,
   "id": "d7abc874",
   "metadata": {},
   "outputs": [
    {
     "data": {
      "text/plain": [
       "b'20523'"
      ]
     },
     "execution_count": 15,
     "metadata": {},
     "output_type": "execute_result"
    }
   ],
   "source": [
    "nuevo_usuario  = {\"new_user\"   : \"USUARIO DE PRUEBA\"}\n",
    "requests.post(\"http://127.0.0.1:5000/newuser\", data=nuevo_usuario).content\n",
    "#En este caso, el Endpoint nos devuelve el ID del nuevo usuario en la BBDD"
   ]
  },
  {
   "cell_type": "code",
   "execution_count": 16,
   "id": "44837a6f",
   "metadata": {},
   "outputs": [
    {
     "data": {
      "text/plain": [
       "b'46'"
      ]
     },
     "execution_count": 16,
     "metadata": {},
     "output_type": "execute_result"
    }
   ],
   "source": [
    "nuevo_producto = {\"new_product\": \"PRODUCTO DE PRUEBA\" }\n",
    "requests.post(\"http://127.0.0.1:5000/newproduct\", data=nuevo_producto).content\n",
    "#En este caso, el Endpoint nos devuelve el ID del nuevo producto en la BBDD"
   ]
  },
  {
   "cell_type": "code",
   "execution_count": 17,
   "id": "93f1e937",
   "metadata": {},
   "outputs": [
    {
     "data": {
      "text/plain": [
       "b'27377'"
      ]
     },
     "execution_count": 17,
     "metadata": {},
     "output_type": "execute_result"
    }
   ],
   "source": [
    "nuevo_rating = {\"rating\"        : 3                 ,\n",
    "                \"rating_text\"  : \"RATING DE PRUEBA\" ,\n",
    "                \"rating_title\" : \"PRUEBA\"           ,\n",
    "                \"date\"         : \"2021-11-29\"       ,\n",
    "                \"recommended\"  : True               ,\n",
    "                \"Product_name\" : \"PRUEBA_RATING\"    ,\n",
    "                \"username\"     : \"PRUEBA_RATING\"    }\n",
    "    \n",
    "requests.post(\"http://127.0.0.1:5000/newrating\", data=nuevo_rating).content\n",
    "#En este caso, el Endpoint nos devuelve el ID del nuevo rating en la BBDD"
   ]
  },
  {
   "cell_type": "markdown",
   "id": "4e8dae85",
   "metadata": {},
   "source": [
    "# 4. JSON-izamos las respuesta de cada Endpoint"
   ]
  },
  {
   "cell_type": "markdown",
   "id": "ac23655d",
   "metadata": {},
   "source": [
    "    /                   [GET]\n",
    "    /user_list          [GET]\n",
    "    /product_list       [GET]\n",
    "    /ratingsbyuser      [GET]\n",
    "    /ratingsbyproduct   [GET]\n",
    "    /newuser            [POST]\n",
    "    /newproduct         [POST]\n",
    "    /newrating          [POST]"
   ]
  },
  {
   "cell_type": "code",
   "execution_count": 18,
   "id": "4374857c",
   "metadata": {},
   "outputs": [],
   "source": [
    "#requests.get(\"http://127.0.0.1:5000/user_list\").json()\n",
    "#lo tapamos porque son 25.000 usuarios."
   ]
  },
  {
   "cell_type": "code",
   "execution_count": 19,
   "id": "c50df57d",
   "metadata": {},
   "outputs": [
    {
     "data": {
      "text/plain": [
       "[{'product': 'All-New Fire HD 8 Tablet 8 HD Display Wi-Fi 16 GB - Includes Special Offers Magenta'},\n",
       " {'product': 'Kindle Oasis E-reader with Leather Charging Cover - Merlot 6 High-Resolution Display (300 ppi) Wi-Fi - Includes Special Offers'},\n",
       " {'product': 'All-New Fire HD 8 Tablet 8 HD Display Wi-Fi 32 GB - Includes Special Offers Magenta'},\n",
       " {'product': 'Fire HD 8 Tablet with Alexa 8 HD Display 32 GB Tangerine - with Special Offers'},\n",
       " {'product': 'Amazon 5W USB Official OEM Charger and Power Adapter for Fire Tablets and Kindle eReaders'},\n",
       " {'product': 'Amazon Kindle Fire Hd (3rd Generation) 8gb'},\n",
       " {'product': 'Fire Tablet 7 Display Wi-Fi 8 GB - Includes Special Offers Magenta'},\n",
       " {'product': 'Kindle Oasis E-reader with Leather Charging Cover - Black 6 High-Resolution Display (300 ppi) Wi-Fi - Includes Special Offers'},\n",
       " {'product': 'Amazon - Kindle Voyage - 4GB - Wi-Fi + 3G - Black'},\n",
       " {'product': 'Fire HD 8 Tablet with Alexa 8 HD Display 16 GB Tangerine - with Special Offers'},\n",
       " {'product': 'Amazon Standing Protective Case for Fire HD 6 (4th Generation) - Black'},\n",
       " {'product': 'Certified Refurbished Amazon Fire TV (Previous Generation - 1st)'},\n",
       " {'product': 'Brand New Amazon Kindle Fire 16gb 7 Ips Display Tablet Wifi 16 Gb Blue'},\n",
       " {'product': 'Amazon Kindle Touch Leather Case (4th Generation - 2011 Release) Olive Green'},\n",
       " {'product': 'Fire Kids Edition Tablet 7 Display Wi-Fi 16 GB Green Kid-Proof Case'},\n",
       " {'product': 'Amazon Kindle Paperwhite - eBook reader - 4 GB - 6 monochrome Paperwhite - touchscreen - Wi-Fi - black'},\n",
       " {'product': 'Kindle Voyage E-reader 6 High-Resolution Display (300 ppi) with Adaptive Built-in Light PagePress Sensors Wi-Fi - Includes Special Offers'},\n",
       " {'product': 'Certified Refurbished Amazon Fire TV Stick (Previous Generation - 1st)'},\n",
       " {'product': 'Kindle Paperwhite'},\n",
       " {'product': 'Amazon Fire Kids Edition Tablet 7 Display Wi-Fi 16 GB Blue Kid-Proof Case - Blue'},\n",
       " {'product': 'Kindle Paperwhite E-reader - White 6 High-Resolution Display (300 ppi) with Built-in Light Wi-Fi - Includes Special Offers'},\n",
       " {'product': 'Amazon Echo and Fire TV Power Adapter'},\n",
       " {'product': 'Amazon Fire Hd 8 8in Tablet 16gb Black B018szt3bk 6th Gen (2016) Android'},\n",
       " {'product': 'Certified Refurbished Amazon Fire TV with Alexa Voice Remote'},\n",
       " {'product': 'Amazon - Fire 16GB (5th Gen 2015 Release) - Black'},\n",
       " {'product': 'Fire Tablet 7 Display Wi-Fi 8 GB - Includes Special Offers Black'},\n",
       " {'product': 'Echo (White)'},\n",
       " {'product': 'Echo (Black)'},\n",
       " {'product': 'Amazon 9W PowerFast Official OEM USB Charger and Power Adapter for Fire Tablets and Kindle eReaders'},\n",
       " {'product': 'Amazon Fire Hd 6 Standing Protective Case(4th Generation - 2014 Release) Cayenne Red'},\n",
       " {'product': 'Amazon Fire Hd 10 Tablet Wi-Fi 16 Gb Special Offers - Silver Aluminum'},\n",
       " {'product': 'Amazon - Amazon Tap Portable Bluetooth and Wi-Fi Speaker - Black'},\n",
       " {'product': 'Coconut Water Red Tea 16.5 Oz (pack of 12)'},\n",
       " {'product': 'Amazon Fire Tv'},\n",
       " {'product': 'Kindle Dx Leather Cover Black (fits 9.7 Display Latest and 2nd Generation Kindle Dxs)'},\n",
       " {'product': 'Amazon Kindle Fire 5ft USB to Micro-USB Cable (works with most Micro-USB Tablets)'},\n",
       " {'product': 'New Amazon Kindle Fire Hd 9w Powerfast Adapter Charger + Micro Usb Angle Cable'},\n",
       " {'product': 'PRODUCTO DE PRUEBA'},\n",
       " {'product': 'PRUEBA_RATING'}]"
      ]
     },
     "execution_count": 19,
     "metadata": {},
     "output_type": "execute_result"
    }
   ],
   "source": [
    "requests.get(\"http://127.0.0.1:5000/product_list\").json()"
   ]
  },
  {
   "cell_type": "code",
   "execution_count": 20,
   "id": "67c0d257",
   "metadata": {},
   "outputs": [
    {
     "data": {
      "text/plain": [
       "[{'date': 'Fri, 12 Aug 2016 00:00:00 GMT',\n",
       "  'rating': '4',\n",
       "  'rating_text': 'Alexa is very good a quickly satisfying your music requests. The whole interface is novel and interesting to use and for guests who have not encountered Alexa previously. Sound quality is good but not top shelf. I purchased one for our son and son-in-law for Fathers Day. Finally about 3 weeks ago we bought one for ourselves. Net: worth purchasing.',\n",
       "  'rating_title': 'Alexa is very good at quickly finding your music',\n",
       "  'recommended': True,\n",
       "  'username': 'RichBo'}]"
      ]
     },
     "execution_count": 20,
     "metadata": {},
     "output_type": "execute_result"
    }
   ],
   "source": [
    "usuario  = {\"user\"   : \"RichBo\"}\n",
    "requests.get(\"http://127.0.0.1:5000/ratingsbyuser\",data=usuario).json()"
   ]
  },
  {
   "cell_type": "code",
   "execution_count": 21,
   "id": "d363f143",
   "metadata": {},
   "outputs": [
    {
     "data": {
      "text/plain": [
       "[{'Product_name': 'Amazon Kindle Fire 5ft USB to Micro-USB Cable (works with most Micro-USB Tablets)',\n",
       "  'rating': '4',\n",
       "  'rating_text': 'Alexa is very good a quickly satisfying your music requests. The whole interface is novel and interesting to use and for guests who have not encountered Alexa previously. Sound quality is good but not top shelf. I purchased one for our son and son-in-law for Fathers Day. Finally about 3 weeks ago we bought one for ourselves. Net: worth purchasing.',\n",
       "  'rating_title': 'Alexa is very good at quickly finding your music',\n",
       "  'recommended': True},\n",
       " {'Product_name': 'Amazon Kindle Fire 5ft USB to Micro-USB Cable (works with most Micro-USB Tablets)',\n",
       "  'rating': '5',\n",
       "  'rating_text': 'Really enjoy our day to day interactions with Alexa',\n",
       "  'rating_title': 'So fun and useful',\n",
       "  'recommended': True},\n",
       " {'Product_name': 'Amazon Kindle Fire 5ft USB to Micro-USB Cable (works with most Micro-USB Tablets)',\n",
       "  'rating': '3',\n",
       "  'rating_text': 'Good speaker but limited if you don´t have a big music collection. I wish it did more',\n",
       "  'rating_title': 'Good speaker',\n",
       "  'recommended': True},\n",
       " {'Product_name': 'Amazon Kindle Fire 5ft USB to Micro-USB Cable (works with most Micro-USB Tablets)',\n",
       "  'rating': '5',\n",
       "  'rating_text': 'Easy to use and very fun!! Use it for my PC speaker and it´s awesome!!',\n",
       "  'rating_title': 'Very Cool',\n",
       "  'recommended': True}]"
      ]
     },
     "execution_count": 21,
     "metadata": {},
     "output_type": "execute_result"
    }
   ],
   "source": [
    "producto  = {\"product\"   : \"Amazon Kindle Fire 5ft USB to Micro-USB Cable (works with most Micro-USB Tablets)\"}\n",
    "requests.get(\"http://127.0.0.1:5000/ratingsbyproduct\",data=producto).json()"
   ]
  },
  {
   "cell_type": "code",
   "execution_count": 22,
   "id": "edce2e33",
   "metadata": {},
   "outputs": [
    {
     "data": {
      "text/plain": [
       "20523"
      ]
     },
     "execution_count": 22,
     "metadata": {},
     "output_type": "execute_result"
    }
   ],
   "source": [
    "nuevo_usuario  = {\"new_user\"   : \"USUARIO DE PRUEBA\"}\n",
    "requests.post(\"http://127.0.0.1:5000/newuser\", data=nuevo_usuario).json()\n",
    "#En este caso, el Endpoint nos devuelve el ID del nuevo usuario en la BBDD"
   ]
  },
  {
   "cell_type": "code",
   "execution_count": 23,
   "id": "c26e8fc2",
   "metadata": {},
   "outputs": [
    {
     "data": {
      "text/plain": [
       "46"
      ]
     },
     "execution_count": 23,
     "metadata": {},
     "output_type": "execute_result"
    }
   ],
   "source": [
    "nuevo_producto = {\"new_product\": \"PRODUCTO DE PRUEBA\" }\n",
    "requests.post(\"http://127.0.0.1:5000/newproduct\", data=nuevo_producto).json()\n",
    "#En este caso, el Endpoint nos devuelve el ID del nuevo producto en la BBDD"
   ]
  },
  {
   "cell_type": "code",
   "execution_count": 24,
   "id": "17f8544b",
   "metadata": {},
   "outputs": [
    {
     "data": {
      "text/plain": [
       "27377"
      ]
     },
     "execution_count": 24,
     "metadata": {},
     "output_type": "execute_result"
    }
   ],
   "source": [
    "nuevo_rating = {\"rating\"        : 3                 ,\n",
    "                \"rating_text\"  : \"RATING DE PRUEBA\" ,\n",
    "                \"rating_title\" : \"PRUEBA\"           ,\n",
    "                \"date\"         : \"2021-11-29\"       ,\n",
    "                \"recommended\"  : True               ,\n",
    "                \"Product_name\" : \"PRUEBA_RATING\"    ,\n",
    "                \"username\"     : \"PRUEBA_RATING\"    }\n",
    "    \n",
    "requests.post(\"http://127.0.0.1:5000/newrating\", data=nuevo_rating).json()\n",
    "#En este caso, el Endpoint nos devuelve el ID del nuevo rating en la BBDD"
   ]
  },
  {
   "cell_type": "markdown",
   "id": "c1133691",
   "metadata": {},
   "source": [
    "# 4. Pasamos a DataFrame los JSONs de Ratings"
   ]
  },
  {
   "cell_type": "markdown",
   "id": "2e99238c",
   "metadata": {},
   "source": [
    "\n",
    "    /ratingsbyuser      [GET]\n",
    "    /ratingsbyproduct   [GET]\n"
   ]
  },
  {
   "cell_type": "code",
   "execution_count": 25,
   "id": "60e2043f",
   "metadata": {},
   "outputs": [
    {
     "data": {
      "text/html": [
       "<div>\n",
       "<style scoped>\n",
       "    .dataframe tbody tr th:only-of-type {\n",
       "        vertical-align: middle;\n",
       "    }\n",
       "\n",
       "    .dataframe tbody tr th {\n",
       "        vertical-align: top;\n",
       "    }\n",
       "\n",
       "    .dataframe thead th {\n",
       "        text-align: right;\n",
       "    }\n",
       "</style>\n",
       "<table border=\"1\" class=\"dataframe\">\n",
       "  <thead>\n",
       "    <tr style=\"text-align: right;\">\n",
       "      <th></th>\n",
       "      <th>date</th>\n",
       "      <th>rating</th>\n",
       "      <th>rating_text</th>\n",
       "      <th>rating_title</th>\n",
       "      <th>recommended</th>\n",
       "      <th>username</th>\n",
       "    </tr>\n",
       "  </thead>\n",
       "  <tbody>\n",
       "    <tr>\n",
       "      <th>0</th>\n",
       "      <td>Fri, 12 Aug 2016 00:00:00 GMT</td>\n",
       "      <td>4</td>\n",
       "      <td>Alexa is very good a quickly satisfying your m...</td>\n",
       "      <td>Alexa is very good at quickly finding your music</td>\n",
       "      <td>True</td>\n",
       "      <td>RichBo</td>\n",
       "    </tr>\n",
       "  </tbody>\n",
       "</table>\n",
       "</div>"
      ],
      "text/plain": [
       "                            date rating  \\\n",
       "0  Fri, 12 Aug 2016 00:00:00 GMT      4   \n",
       "\n",
       "                                         rating_text  \\\n",
       "0  Alexa is very good a quickly satisfying your m...   \n",
       "\n",
       "                                       rating_title  recommended username  \n",
       "0  Alexa is very good at quickly finding your music         True   RichBo  "
      ]
     },
     "execution_count": 25,
     "metadata": {},
     "output_type": "execute_result"
    }
   ],
   "source": [
    "usuario  = {\"user\"   : \"RichBo\"}\n",
    "pd.DataFrame(requests.get(\"http://127.0.0.1:5000/ratingsbyuser\",data=usuario).json())"
   ]
  },
  {
   "cell_type": "code",
   "execution_count": 26,
   "id": "35db8f16",
   "metadata": {},
   "outputs": [
    {
     "data": {
      "text/html": [
       "<div>\n",
       "<style scoped>\n",
       "    .dataframe tbody tr th:only-of-type {\n",
       "        vertical-align: middle;\n",
       "    }\n",
       "\n",
       "    .dataframe tbody tr th {\n",
       "        vertical-align: top;\n",
       "    }\n",
       "\n",
       "    .dataframe thead th {\n",
       "        text-align: right;\n",
       "    }\n",
       "</style>\n",
       "<table border=\"1\" class=\"dataframe\">\n",
       "  <thead>\n",
       "    <tr style=\"text-align: right;\">\n",
       "      <th></th>\n",
       "      <th>Product_name</th>\n",
       "      <th>rating</th>\n",
       "      <th>rating_text</th>\n",
       "      <th>rating_title</th>\n",
       "      <th>recommended</th>\n",
       "    </tr>\n",
       "  </thead>\n",
       "  <tbody>\n",
       "    <tr>\n",
       "      <th>0</th>\n",
       "      <td>Amazon Kindle Fire 5ft USB to Micro-USB Cable ...</td>\n",
       "      <td>4</td>\n",
       "      <td>Alexa is very good a quickly satisfying your m...</td>\n",
       "      <td>Alexa is very good at quickly finding your music</td>\n",
       "      <td>True</td>\n",
       "    </tr>\n",
       "    <tr>\n",
       "      <th>1</th>\n",
       "      <td>Amazon Kindle Fire 5ft USB to Micro-USB Cable ...</td>\n",
       "      <td>5</td>\n",
       "      <td>Really enjoy our day to day interactions with ...</td>\n",
       "      <td>So fun and useful</td>\n",
       "      <td>True</td>\n",
       "    </tr>\n",
       "    <tr>\n",
       "      <th>2</th>\n",
       "      <td>Amazon Kindle Fire 5ft USB to Micro-USB Cable ...</td>\n",
       "      <td>3</td>\n",
       "      <td>Good speaker but limited if you don´t have a b...</td>\n",
       "      <td>Good speaker</td>\n",
       "      <td>True</td>\n",
       "    </tr>\n",
       "    <tr>\n",
       "      <th>3</th>\n",
       "      <td>Amazon Kindle Fire 5ft USB to Micro-USB Cable ...</td>\n",
       "      <td>5</td>\n",
       "      <td>Easy to use and very fun!! Use it for my PC sp...</td>\n",
       "      <td>Very Cool</td>\n",
       "      <td>True</td>\n",
       "    </tr>\n",
       "  </tbody>\n",
       "</table>\n",
       "</div>"
      ],
      "text/plain": [
       "                                        Product_name rating  \\\n",
       "0  Amazon Kindle Fire 5ft USB to Micro-USB Cable ...      4   \n",
       "1  Amazon Kindle Fire 5ft USB to Micro-USB Cable ...      5   \n",
       "2  Amazon Kindle Fire 5ft USB to Micro-USB Cable ...      3   \n",
       "3  Amazon Kindle Fire 5ft USB to Micro-USB Cable ...      5   \n",
       "\n",
       "                                         rating_text  \\\n",
       "0  Alexa is very good a quickly satisfying your m...   \n",
       "1  Really enjoy our day to day interactions with ...   \n",
       "2  Good speaker but limited if you don´t have a b...   \n",
       "3  Easy to use and very fun!! Use it for my PC sp...   \n",
       "\n",
       "                                       rating_title  recommended  \n",
       "0  Alexa is very good at quickly finding your music         True  \n",
       "1                                 So fun and useful         True  \n",
       "2                                      Good speaker         True  \n",
       "3                                         Very Cool         True  "
      ]
     },
     "execution_count": 26,
     "metadata": {},
     "output_type": "execute_result"
    }
   ],
   "source": [
    "producto  = {\"product\"   : \"Amazon Kindle Fire 5ft USB to Micro-USB Cable (works with most Micro-USB Tablets)\"}\n",
    "pd.DataFrame(requests.get(\"http://127.0.0.1:5000/ratingsbyproduct\",data=producto).json())"
   ]
  },
  {
   "cell_type": "code",
   "execution_count": null,
   "id": "39efe3d5",
   "metadata": {},
   "outputs": [],
   "source": []
  }
 ],
 "metadata": {
  "kernelspec": {
   "display_name": "ironhack",
   "language": "python",
   "name": "ironhack"
  },
  "language_info": {
   "codemirror_mode": {
    "name": "ipython",
    "version": 3
   },
   "file_extension": ".py",
   "mimetype": "text/x-python",
   "name": "python",
   "nbconvert_exporter": "python",
   "pygments_lexer": "ipython3",
   "version": "3.8.5"
  }
 },
 "nbformat": 4,
 "nbformat_minor": 5
}
