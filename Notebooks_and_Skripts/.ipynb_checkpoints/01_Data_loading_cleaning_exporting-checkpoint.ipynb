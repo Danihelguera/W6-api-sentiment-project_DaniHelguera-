{
 "cells": [
  {
   "cell_type": "code",
   "execution_count": 1,
   "id": "9f4c6b72",
   "metadata": {},
   "outputs": [],
   "source": [
    "import pandas as pd\n",
    "from datetime import datetime"
   ]
  },
  {
   "cell_type": "code",
   "execution_count": 2,
   "id": "c452fee0",
   "metadata": {},
   "outputs": [
    {
     "name": "stdout",
     "output_type": "stream",
     "text": [
      "<class 'pandas.core.frame.DataFrame'>\n",
      "RangeIndex: 34660 entries, 0 to 34659\n",
      "Data columns (total 21 columns):\n",
      " #   Column                Non-Null Count  Dtype  \n",
      "---  ------                --------------  -----  \n",
      " 0   id                    34660 non-null  object \n",
      " 1   name                  27900 non-null  object \n",
      " 2   asins                 34658 non-null  object \n",
      " 3   brand                 34660 non-null  object \n",
      " 4   categories            34660 non-null  object \n",
      " 5   keys                  34660 non-null  object \n",
      " 6   manufacturer          34660 non-null  object \n",
      " 7   reviews.date          34621 non-null  object \n",
      " 8   reviews.dateAdded     24039 non-null  object \n",
      " 9   reviews.dateSeen      34660 non-null  object \n",
      " 10  reviews.didPurchase   1 non-null      object \n",
      " 11  reviews.doRecommend   34066 non-null  object \n",
      " 12  reviews.id            1 non-null      float64\n",
      " 13  reviews.numHelpful    34131 non-null  float64\n",
      " 14  reviews.rating        34627 non-null  float64\n",
      " 15  reviews.sourceURLs    34660 non-null  object \n",
      " 16  reviews.text          34659 non-null  object \n",
      " 17  reviews.title         34655 non-null  object \n",
      " 18  reviews.userCity      0 non-null      float64\n",
      " 19  reviews.userProvince  0 non-null      float64\n",
      " 20  reviews.username      34658 non-null  object \n",
      "dtypes: float64(5), object(16)\n",
      "memory usage: 5.6+ MB\n"
     ]
    }
   ],
   "source": [
    "ars = pd.read_csv(\"../data/1429_1.csv\" , low_memory=False)\n",
    "ars.info()"
   ]
  },
  {
   "cell_type": "code",
   "execution_count": 3,
   "id": "93c6929b",
   "metadata": {},
   "outputs": [
    {
     "data": {
      "text/plain": [
       "id                         42\n",
       "name                       48\n",
       "asins                      41\n",
       "brand                       6\n",
       "categories                 41\n",
       "keys                       42\n",
       "manufacturer                2\n",
       "reviews.date             1078\n",
       "reviews.dateAdded        1941\n",
       "reviews.dateSeen         3911\n",
       "reviews.didPurchase         1\n",
       "reviews.doRecommend         2\n",
       "reviews.id                  1\n",
       "reviews.numHelpful         97\n",
       "reviews.rating              5\n",
       "reviews.sourceURLs      11929\n",
       "reviews.text            34659\n",
       "reviews.title           19767\n",
       "reviews.userCity            0\n",
       "reviews.userProvince        0\n",
       "reviews.username        26789\n",
       "dtype: int64"
      ]
     },
     "execution_count": 3,
     "metadata": {},
     "output_type": "execute_result"
    }
   ],
   "source": [
    "ars.nunique()"
   ]
  },
  {
   "cell_type": "code",
   "execution_count": 4,
   "id": "7da71d5e",
   "metadata": {},
   "outputs": [
    {
     "data": {
      "text/plain": [
       "Index(['id', 'name', 'asins', 'brand', 'categories', 'keys', 'manufacturer',\n",
       "       'date', 'dateAdded', 'dateSeen', 'didPurchase', 'doRecommend', 'id',\n",
       "       'numHelpful', 'rating', 'sourceURLs', 'text', 'title', 'userCity',\n",
       "       'userProvince', 'username'],\n",
       "      dtype='object')"
      ]
     },
     "execution_count": 4,
     "metadata": {},
     "output_type": "execute_result"
    }
   ],
   "source": [
    "ars.columns = [c.replace(\"reviews.\",\"\") for c in list(ars.columns)]\n",
    "ars.columns"
   ]
  },
  {
   "cell_type": "code",
   "execution_count": 5,
   "id": "5e51303f",
   "metadata": {},
   "outputs": [],
   "source": [
    "ars = ars [[ 'name', 'date', 'rating', 'text', 'title', 'doRecommend', 'username']]\n",
    "ars.rename(columns={\"name\"        : \"Product_name\" ,\n",
    "                    \"date\"        : \"date_dirty\",\n",
    "                    \"rating\"      : \"rating\" ,\n",
    "                    \"text\"        : \"rating_text\",\n",
    "                    \"title\"       : \"rating_title\",\n",
    "                    \"doRecommend\" : \"recommended\" ,\n",
    "                    \"username\"    : \"username\"\n",
    "                   } , inplace=True);"
   ]
  },
  {
   "cell_type": "code",
   "execution_count": 6,
   "id": "bc43a8f8",
   "metadata": {},
   "outputs": [],
   "source": [
    "ars.Product_name = ars.Product_name.str.replace(\",\",\"\")\n",
    "ars.Product_name = ars.Product_name.str.replace('\"','')\n",
    "ars.Product_name = ars.Product_name.str.replace(\"'\",\"´\")\n",
    "ars.Product_name = ars.Product_name.str.replace(\"\\r\",\"\")\n",
    "ars.Product_name = ars.Product_name.str.strip()\n",
    "\n",
    "ars.rating_text  = ars.rating_text.str.replace(\",\",\"\")\n",
    "ars.rating_text  = ars.rating_text.str.replace('\"','')\n",
    "ars.rating_text  = ars.rating_text.str.replace(\"'\",\"´\")\n",
    "\n",
    "ars.rating_title = ars.rating_title.str.replace(\",\",\"\")\n",
    "ars.rating_title = ars.rating_title.str.replace('\"','')\n",
    "ars.rating_title = ars.rating_title.str.replace(\"'\",\"´\")"
   ]
  },
  {
   "cell_type": "code",
   "execution_count": 7,
   "id": "02ecb3c9",
   "metadata": {
    "scrolled": true
   },
   "outputs": [
    {
     "data": {
      "text/plain": [
       "Product_name    6760\n",
       "date_dirty        39\n",
       "rating            33\n",
       "rating_text        1\n",
       "rating_title       5\n",
       "recommended      594\n",
       "username           2\n",
       "dtype: int64"
      ]
     },
     "execution_count": 7,
     "metadata": {},
     "output_type": "execute_result"
    }
   ],
   "source": [
    "ars.isnull().sum()"
   ]
  },
  {
   "cell_type": "code",
   "execution_count": 8,
   "id": "62aa9961",
   "metadata": {},
   "outputs": [],
   "source": [
    "ars = ars.dropna(how='any')"
   ]
  },
  {
   "cell_type": "code",
   "execution_count": 10,
   "id": "c3b386b5",
   "metadata": {},
   "outputs": [],
   "source": [
    "ars.Product_name = ars.Product_name.apply(lambda x: str(x).split(\"\\n\",1)[0])"
   ]
  },
  {
   "cell_type": "code",
   "execution_count": 12,
   "id": "6a26acfd",
   "metadata": {},
   "outputs": [
    {
     "data": {
      "text/html": [
       "<div>\n",
       "<style scoped>\n",
       "    .dataframe tbody tr th:only-of-type {\n",
       "        vertical-align: middle;\n",
       "    }\n",
       "\n",
       "    .dataframe tbody tr th {\n",
       "        vertical-align: top;\n",
       "    }\n",
       "\n",
       "    .dataframe thead th {\n",
       "        text-align: right;\n",
       "    }\n",
       "</style>\n",
       "<table border=\"1\" class=\"dataframe\">\n",
       "  <thead>\n",
       "    <tr style=\"text-align: right;\">\n",
       "      <th></th>\n",
       "      <th>Product_name</th>\n",
       "      <th>rating</th>\n",
       "      <th>rating_text</th>\n",
       "      <th>rating_title</th>\n",
       "      <th>recommended</th>\n",
       "      <th>username</th>\n",
       "      <th>date</th>\n",
       "      <th>year</th>\n",
       "      <th>month</th>\n",
       "      <th>day</th>\n",
       "    </tr>\n",
       "  </thead>\n",
       "  <tbody>\n",
       "    <tr>\n",
       "      <th>0</th>\n",
       "      <td>All-New Fire HD 8 Tablet 8 HD Display Wi-Fi 16...</td>\n",
       "      <td>5.0</td>\n",
       "      <td>This product so far has not disappointed. My c...</td>\n",
       "      <td>Kindle</td>\n",
       "      <td>True</td>\n",
       "      <td>Adapter</td>\n",
       "      <td>2017-01-13</td>\n",
       "      <td>2017</td>\n",
       "      <td>1</td>\n",
       "      <td>13</td>\n",
       "    </tr>\n",
       "    <tr>\n",
       "      <th>1</th>\n",
       "      <td>All-New Fire HD 8 Tablet 8 HD Display Wi-Fi 16...</td>\n",
       "      <td>5.0</td>\n",
       "      <td>great for beginner or experienced person. Boug...</td>\n",
       "      <td>very fast</td>\n",
       "      <td>True</td>\n",
       "      <td>truman</td>\n",
       "      <td>2017-01-13</td>\n",
       "      <td>2017</td>\n",
       "      <td>1</td>\n",
       "      <td>13</td>\n",
       "    </tr>\n",
       "    <tr>\n",
       "      <th>2</th>\n",
       "      <td>All-New Fire HD 8 Tablet 8 HD Display Wi-Fi 16...</td>\n",
       "      <td>5.0</td>\n",
       "      <td>Inexpensive tablet for him to use and learn on...</td>\n",
       "      <td>Beginner tablet for our 9 year old son.</td>\n",
       "      <td>True</td>\n",
       "      <td>DaveZ</td>\n",
       "      <td>2017-01-13</td>\n",
       "      <td>2017</td>\n",
       "      <td>1</td>\n",
       "      <td>13</td>\n",
       "    </tr>\n",
       "    <tr>\n",
       "      <th>3</th>\n",
       "      <td>All-New Fire HD 8 Tablet 8 HD Display Wi-Fi 16...</td>\n",
       "      <td>4.0</td>\n",
       "      <td>I´ve had my Fire HD 8 two weeks now and I love...</td>\n",
       "      <td>Good!!!</td>\n",
       "      <td>True</td>\n",
       "      <td>Shacks</td>\n",
       "      <td>2017-01-13</td>\n",
       "      <td>2017</td>\n",
       "      <td>1</td>\n",
       "      <td>13</td>\n",
       "    </tr>\n",
       "    <tr>\n",
       "      <th>4</th>\n",
       "      <td>All-New Fire HD 8 Tablet 8 HD Display Wi-Fi 16...</td>\n",
       "      <td>5.0</td>\n",
       "      <td>I bought this for my grand daughter when she c...</td>\n",
       "      <td>Fantastic Tablet for kids</td>\n",
       "      <td>True</td>\n",
       "      <td>explore42</td>\n",
       "      <td>2017-01-12</td>\n",
       "      <td>2017</td>\n",
       "      <td>1</td>\n",
       "      <td>12</td>\n",
       "    </tr>\n",
       "  </tbody>\n",
       "</table>\n",
       "</div>"
      ],
      "text/plain": [
       "                                        Product_name  rating  \\\n",
       "0  All-New Fire HD 8 Tablet 8 HD Display Wi-Fi 16...     5.0   \n",
       "1  All-New Fire HD 8 Tablet 8 HD Display Wi-Fi 16...     5.0   \n",
       "2  All-New Fire HD 8 Tablet 8 HD Display Wi-Fi 16...     5.0   \n",
       "3  All-New Fire HD 8 Tablet 8 HD Display Wi-Fi 16...     4.0   \n",
       "4  All-New Fire HD 8 Tablet 8 HD Display Wi-Fi 16...     5.0   \n",
       "\n",
       "                                         rating_text  \\\n",
       "0  This product so far has not disappointed. My c...   \n",
       "1  great for beginner or experienced person. Boug...   \n",
       "2  Inexpensive tablet for him to use and learn on...   \n",
       "3  I´ve had my Fire HD 8 two weeks now and I love...   \n",
       "4  I bought this for my grand daughter when she c...   \n",
       "\n",
       "                              rating_title  recommended   username       date  \\\n",
       "0                                   Kindle         True    Adapter 2017-01-13   \n",
       "1                                very fast         True     truman 2017-01-13   \n",
       "2  Beginner tablet for our 9 year old son.         True      DaveZ 2017-01-13   \n",
       "3                                  Good!!!         True     Shacks 2017-01-13   \n",
       "4                Fantastic Tablet for kids         True  explore42 2017-01-12   \n",
       "\n",
       "   year  month  day  \n",
       "0  2017      1   13  \n",
       "1  2017      1   13  \n",
       "2  2017      1   13  \n",
       "3  2017      1   13  \n",
       "4  2017      1   12  "
      ]
     },
     "execution_count": 12,
     "metadata": {},
     "output_type": "execute_result"
    }
   ],
   "source": [
    "ars[\"date\"]  = ars.date_dirty.apply(lambda x: datetime.fromisoformat(x[:10]));\n",
    "ars.drop(\"date_dirty\",axis='columns',inplace=True);\n",
    "\n",
    "ars[\"year\"]  = pd.DatetimeIndex(ars.date).year;\n",
    "ars[\"month\"] = pd.DatetimeIndex(ars.date).month;\n",
    "ars[\"day\"]   = pd.DatetimeIndex(ars.date).day;\n",
    "\n",
    "ars.recommended = ars.recommended.astype('bool')\n",
    "\n",
    "ars.head()"
   ]
  },
  {
   "cell_type": "code",
   "execution_count": 13,
   "id": "9f32b487",
   "metadata": {},
   "outputs": [
    {
     "data": {
      "text/plain": [
       "(27406, 10)"
      ]
     },
     "execution_count": 13,
     "metadata": {},
     "output_type": "execute_result"
    }
   ],
   "source": [
    "ars.shape"
   ]
  },
  {
   "cell_type": "code",
   "execution_count": 14,
   "id": "e3954463",
   "metadata": {},
   "outputs": [
    {
     "name": "stdout",
     "output_type": "stream",
     "text": [
      "<class 'pandas.core.frame.DataFrame'>\n",
      "Int64Index: 27406 entries, 0 to 27899\n",
      "Data columns (total 10 columns):\n",
      " #   Column        Non-Null Count  Dtype         \n",
      "---  ------        --------------  -----         \n",
      " 0   Product_name  27406 non-null  object        \n",
      " 1   rating        27406 non-null  float64       \n",
      " 2   rating_text   27406 non-null  object        \n",
      " 3   rating_title  27406 non-null  object        \n",
      " 4   recommended   27406 non-null  bool          \n",
      " 5   username      27406 non-null  object        \n",
      " 6   date          27406 non-null  datetime64[ns]\n",
      " 7   year          27406 non-null  int64         \n",
      " 8   month         27406 non-null  int64         \n",
      " 9   day           27406 non-null  int64         \n",
      "dtypes: bool(1), datetime64[ns](1), float64(1), int64(3), object(4)\n",
      "memory usage: 2.1+ MB\n"
     ]
    }
   ],
   "source": [
    "ars.info()"
   ]
  },
  {
   "cell_type": "code",
   "execution_count": 15,
   "id": "ef71fe36",
   "metadata": {},
   "outputs": [
    {
     "data": {
      "text/plain": [
       "Product_name       37\n",
       "rating              5\n",
       "rating_text     27405\n",
       "rating_title    15659\n",
       "recommended         2\n",
       "username        21478\n",
       "date              919\n",
       "year                4\n",
       "month              12\n",
       "day                31\n",
       "dtype: int64"
      ]
     },
     "execution_count": 15,
     "metadata": {},
     "output_type": "execute_result"
    }
   ],
   "source": [
    "ars.nunique()"
   ]
  },
  {
   "cell_type": "code",
   "execution_count": 16,
   "id": "05dcc58a",
   "metadata": {},
   "outputs": [],
   "source": [
    "ars.to_csv(\"../data/amazon_reviews_clean.csv\",index=False,encoding='utf-8')"
   ]
  },
  {
   "cell_type": "code",
   "execution_count": null,
   "id": "5f33f932",
   "metadata": {},
   "outputs": [],
   "source": []
  }
 ],
 "metadata": {
  "kernelspec": {
   "display_name": "ironhack",
   "language": "python",
   "name": "ironhack"
  },
  "language_info": {
   "codemirror_mode": {
    "name": "ipython",
    "version": 3
   },
   "file_extension": ".py",
   "mimetype": "text/x-python",
   "name": "python",
   "nbconvert_exporter": "python",
   "pygments_lexer": "ipython3",
   "version": "3.8.5"
  }
 },
 "nbformat": 4,
 "nbformat_minor": 5
}
