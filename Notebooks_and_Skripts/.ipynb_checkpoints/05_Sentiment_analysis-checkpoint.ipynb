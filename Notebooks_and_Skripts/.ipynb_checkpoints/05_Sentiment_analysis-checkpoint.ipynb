{
 "cells": [
  {
   "cell_type": "markdown",
   "id": "4404ce2b",
   "metadata": {},
   "source": [
    "# 1. Importamos librerías necesarias"
   ]
  },
  {
   "cell_type": "code",
   "execution_count": 1,
   "id": "51d0f595",
   "metadata": {},
   "outputs": [],
   "source": [
    "import pandas as pd\n",
    "import requests\n",
    "import spacy\n",
    "import re\n",
    "from nltk.sentiment.vader import SentimentIntensityAnalyzer\n",
    "\n",
    "import seaborn as sns"
   ]
  },
  {
   "cell_type": "markdown",
   "id": "38c83db3",
   "metadata": {},
   "source": [
    "# 2. Conseguimos listado de ratings para evaluar la emotividad"
   ]
  },
  {
   "cell_type": "markdown",
   "id": "db9019fb",
   "metadata": {},
   "source": [
    "Usamos la api haciendola consultas sobre los endpoints `/ratingsbyuser` y `/ratingsbyproduct`.\n",
    "\n",
    "Directamente los importamos como DataFrames"
   ]
  },
  {
   "cell_type": "code",
   "execution_count": 2,
   "id": "52417742",
   "metadata": {},
   "outputs": [
    {
     "data": {
      "text/html": [
       "<div>\n",
       "<style scoped>\n",
       "    .dataframe tbody tr th:only-of-type {\n",
       "        vertical-align: middle;\n",
       "    }\n",
       "\n",
       "    .dataframe tbody tr th {\n",
       "        vertical-align: top;\n",
       "    }\n",
       "\n",
       "    .dataframe thead th {\n",
       "        text-align: right;\n",
       "    }\n",
       "</style>\n",
       "<table border=\"1\" class=\"dataframe\">\n",
       "  <thead>\n",
       "    <tr style=\"text-align: right;\">\n",
       "      <th></th>\n",
       "      <th>date</th>\n",
       "      <th>rating</th>\n",
       "      <th>rating_text</th>\n",
       "      <th>rating_title</th>\n",
       "      <th>recommended</th>\n",
       "      <th>username</th>\n",
       "    </tr>\n",
       "  </thead>\n",
       "  <tbody>\n",
       "    <tr>\n",
       "      <th>0</th>\n",
       "      <td>Fri, 12 Aug 2016 00:00:00 GMT</td>\n",
       "      <td>4</td>\n",
       "      <td>Alexa is very good a quickly satisfying your m...</td>\n",
       "      <td>Alexa is very good at quickly finding your music</td>\n",
       "      <td>True</td>\n",
       "      <td>RichBo</td>\n",
       "    </tr>\n",
       "  </tbody>\n",
       "</table>\n",
       "</div>"
      ],
      "text/plain": [
       "                            date rating  \\\n",
       "0  Fri, 12 Aug 2016 00:00:00 GMT      4   \n",
       "\n",
       "                                         rating_text  \\\n",
       "0  Alexa is very good a quickly satisfying your m...   \n",
       "\n",
       "                                       rating_title  recommended username  \n",
       "0  Alexa is very good at quickly finding your music         True   RichBo  "
      ]
     },
     "execution_count": 2,
     "metadata": {},
     "output_type": "execute_result"
    }
   ],
   "source": [
    "usuario  = {\"user\"   : \"RichBo\"}\n",
    "ratingslist = pd.DataFrame(requests.get(\"http://127.0.0.1:5000/ratingsbyuser\",data=usuario).json())\n",
    "ratingslist"
   ]
  },
  {
   "cell_type": "code",
   "execution_count": 3,
   "id": "835c31b2",
   "metadata": {},
   "outputs": [
    {
     "data": {
      "text/html": [
       "<div>\n",
       "<style scoped>\n",
       "    .dataframe tbody tr th:only-of-type {\n",
       "        vertical-align: middle;\n",
       "    }\n",
       "\n",
       "    .dataframe tbody tr th {\n",
       "        vertical-align: top;\n",
       "    }\n",
       "\n",
       "    .dataframe thead th {\n",
       "        text-align: right;\n",
       "    }\n",
       "</style>\n",
       "<table border=\"1\" class=\"dataframe\">\n",
       "  <thead>\n",
       "    <tr style=\"text-align: right;\">\n",
       "      <th></th>\n",
       "      <th>Product_name</th>\n",
       "      <th>rating</th>\n",
       "      <th>rating_text</th>\n",
       "      <th>rating_title</th>\n",
       "      <th>recommended</th>\n",
       "    </tr>\n",
       "  </thead>\n",
       "  <tbody>\n",
       "    <tr>\n",
       "      <th>0</th>\n",
       "      <td>Amazon Kindle Fire 5ft USB to Micro-USB Cable ...</td>\n",
       "      <td>4</td>\n",
       "      <td>Alexa is very good a quickly satisfying your m...</td>\n",
       "      <td>Alexa is very good at quickly finding your music</td>\n",
       "      <td>True</td>\n",
       "    </tr>\n",
       "    <tr>\n",
       "      <th>1</th>\n",
       "      <td>Amazon Kindle Fire 5ft USB to Micro-USB Cable ...</td>\n",
       "      <td>5</td>\n",
       "      <td>Really enjoy our day to day interactions with ...</td>\n",
       "      <td>So fun and useful</td>\n",
       "      <td>True</td>\n",
       "    </tr>\n",
       "    <tr>\n",
       "      <th>2</th>\n",
       "      <td>Amazon Kindle Fire 5ft USB to Micro-USB Cable ...</td>\n",
       "      <td>3</td>\n",
       "      <td>Good speaker but limited if you don´t have a b...</td>\n",
       "      <td>Good speaker</td>\n",
       "      <td>True</td>\n",
       "    </tr>\n",
       "    <tr>\n",
       "      <th>3</th>\n",
       "      <td>Amazon Kindle Fire 5ft USB to Micro-USB Cable ...</td>\n",
       "      <td>5</td>\n",
       "      <td>Easy to use and very fun!! Use it for my PC sp...</td>\n",
       "      <td>Very Cool</td>\n",
       "      <td>True</td>\n",
       "    </tr>\n",
       "  </tbody>\n",
       "</table>\n",
       "</div>"
      ],
      "text/plain": [
       "                                        Product_name rating  \\\n",
       "0  Amazon Kindle Fire 5ft USB to Micro-USB Cable ...      4   \n",
       "1  Amazon Kindle Fire 5ft USB to Micro-USB Cable ...      5   \n",
       "2  Amazon Kindle Fire 5ft USB to Micro-USB Cable ...      3   \n",
       "3  Amazon Kindle Fire 5ft USB to Micro-USB Cable ...      5   \n",
       "\n",
       "                                         rating_text  \\\n",
       "0  Alexa is very good a quickly satisfying your m...   \n",
       "1  Really enjoy our day to day interactions with ...   \n",
       "2  Good speaker but limited if you don´t have a b...   \n",
       "3  Easy to use and very fun!! Use it for my PC sp...   \n",
       "\n",
       "                                       rating_title  recommended  \n",
       "0  Alexa is very good at quickly finding your music         True  \n",
       "1                                 So fun and useful         True  \n",
       "2                                      Good speaker         True  \n",
       "3                                         Very Cool         True  "
      ]
     },
     "execution_count": 3,
     "metadata": {},
     "output_type": "execute_result"
    }
   ],
   "source": [
    "producto  = {\"product\"   : \"Amazon Kindle Fire 5ft USB to Micro-USB Cable (works with most Micro-USB Tablets)\"}\n",
    "ratingslist = pd.DataFrame(requests.get(\"http://127.0.0.1:5000/ratingsbyproduct\",data=producto).json())\n",
    "ratingslist"
   ]
  },
  {
   "cell_type": "markdown",
   "id": "032aa002",
   "metadata": {},
   "source": [
    "Alternativamente podemos cargar el archivo CSV con todos los ratings y elegir unos ratings al azar."
   ]
  },
  {
   "cell_type": "code",
   "execution_count": 4,
   "id": "d1fd0bd5",
   "metadata": {},
   "outputs": [
    {
     "data": {
      "text/html": [
       "<div>\n",
       "<style scoped>\n",
       "    .dataframe tbody tr th:only-of-type {\n",
       "        vertical-align: middle;\n",
       "    }\n",
       "\n",
       "    .dataframe tbody tr th {\n",
       "        vertical-align: top;\n",
       "    }\n",
       "\n",
       "    .dataframe thead th {\n",
       "        text-align: right;\n",
       "    }\n",
       "</style>\n",
       "<table border=\"1\" class=\"dataframe\">\n",
       "  <thead>\n",
       "    <tr style=\"text-align: right;\">\n",
       "      <th></th>\n",
       "      <th>Product_name</th>\n",
       "      <th>rating</th>\n",
       "      <th>rating_text</th>\n",
       "      <th>rating_title</th>\n",
       "      <th>recommended</th>\n",
       "      <th>username</th>\n",
       "      <th>date</th>\n",
       "      <th>year</th>\n",
       "      <th>month</th>\n",
       "      <th>day</th>\n",
       "    </tr>\n",
       "  </thead>\n",
       "  <tbody>\n",
       "    <tr>\n",
       "      <th>5304</th>\n",
       "      <td>Fire Tablet 7 Display Wi-Fi 8 GB - Includes Sp...</td>\n",
       "      <td>5.0</td>\n",
       "      <td>Was a christmas gift for my daughter she loves...</td>\n",
       "      <td>Christmas gift</td>\n",
       "      <td>True</td>\n",
       "      <td>Amylynn</td>\n",
       "      <td>2017-01-23</td>\n",
       "      <td>2017</td>\n",
       "      <td>1</td>\n",
       "      <td>23</td>\n",
       "    </tr>\n",
       "    <tr>\n",
       "      <th>15500</th>\n",
       "      <td>Fire Kids Edition Tablet 7 Display Wi-Fi 16 GB...</td>\n",
       "      <td>4.0</td>\n",
       "      <td>Got this for my 3 year old son. He plays with ...</td>\n",
       "      <td>Good beginner tablet</td>\n",
       "      <td>True</td>\n",
       "      <td>Darkbrotha</td>\n",
       "      <td>2017-03-14</td>\n",
       "      <td>2017</td>\n",
       "      <td>3</td>\n",
       "      <td>14</td>\n",
       "    </tr>\n",
       "    <tr>\n",
       "      <th>18170</th>\n",
       "      <td>Amazon Kindle Paperwhite - eBook reader - 4 GB...</td>\n",
       "      <td>5.0</td>\n",
       "      <td>Received this as a gift and is very useful. Ba...</td>\n",
       "      <td>Good one to have</td>\n",
       "      <td>True</td>\n",
       "      <td>Baskar</td>\n",
       "      <td>2016-05-20</td>\n",
       "      <td>2016</td>\n",
       "      <td>5</td>\n",
       "      <td>20</td>\n",
       "    </tr>\n",
       "    <tr>\n",
       "      <th>13894</th>\n",
       "      <td>Fire Tablet 7 Display Wi-Fi 8 GB - Includes Sp...</td>\n",
       "      <td>5.0</td>\n",
       "      <td>I own the Kindle Fire HD 6 and love it...this ...</td>\n",
       "      <td>Affordable e-reader</td>\n",
       "      <td>True</td>\n",
       "      <td>Tarheelval</td>\n",
       "      <td>2015-11-30</td>\n",
       "      <td>2015</td>\n",
       "      <td>11</td>\n",
       "      <td>30</td>\n",
       "    </tr>\n",
       "    <tr>\n",
       "      <th>475</th>\n",
       "      <td>All-New Fire HD 8 Tablet 8 HD Display Wi-Fi 16...</td>\n",
       "      <td>4.0</td>\n",
       "      <td>I will be ordering Amazon fire for my two gran...</td>\n",
       "      <td>Great for beginners</td>\n",
       "      <td>True</td>\n",
       "      <td>Mila</td>\n",
       "      <td>2016-11-25</td>\n",
       "      <td>2016</td>\n",
       "      <td>11</td>\n",
       "      <td>25</td>\n",
       "    </tr>\n",
       "  </tbody>\n",
       "</table>\n",
       "</div>"
      ],
      "text/plain": [
       "                                            Product_name  rating  \\\n",
       "5304   Fire Tablet 7 Display Wi-Fi 8 GB - Includes Sp...     5.0   \n",
       "15500  Fire Kids Edition Tablet 7 Display Wi-Fi 16 GB...     4.0   \n",
       "18170  Amazon Kindle Paperwhite - eBook reader - 4 GB...     5.0   \n",
       "13894  Fire Tablet 7 Display Wi-Fi 8 GB - Includes Sp...     5.0   \n",
       "475    All-New Fire HD 8 Tablet 8 HD Display Wi-Fi 16...     4.0   \n",
       "\n",
       "                                             rating_text  \\\n",
       "5304   Was a christmas gift for my daughter she loves...   \n",
       "15500  Got this for my 3 year old son. He plays with ...   \n",
       "18170  Received this as a gift and is very useful. Ba...   \n",
       "13894  I own the Kindle Fire HD 6 and love it...this ...   \n",
       "475    I will be ordering Amazon fire for my two gran...   \n",
       "\n",
       "               rating_title  recommended    username        date  year  month  \\\n",
       "5304         Christmas gift         True     Amylynn  2017-01-23  2017      1   \n",
       "15500  Good beginner tablet         True  Darkbrotha  2017-03-14  2017      3   \n",
       "18170      Good one to have         True      Baskar  2016-05-20  2016      5   \n",
       "13894   Affordable e-reader         True  Tarheelval  2015-11-30  2015     11   \n",
       "475     Great for beginners         True        Mila  2016-11-25  2016     11   \n",
       "\n",
       "       day  \n",
       "5304    23  \n",
       "15500   14  \n",
       "18170   20  \n",
       "13894   30  \n",
       "475     25  "
      ]
     },
     "execution_count": 4,
     "metadata": {},
     "output_type": "execute_result"
    }
   ],
   "source": [
    "ratingslist = pd.read_csv(\"../data/amazon_reviews_clean.csv\")\n",
    "ratingslist = ratingslist.sample(1000)\n",
    "ratingslist.head()"
   ]
  },
  {
   "cell_type": "markdown",
   "id": "b30be514",
   "metadata": {},
   "source": [
    "# 3 Definimos una funcion para tokenizar textos (core de SpaCy)"
   ]
  },
  {
   "cell_type": "code",
   "execution_count": 5,
   "id": "06bafe70",
   "metadata": {},
   "outputs": [],
   "source": [
    "nlp = spacy.load(\"en_core_web_sm\")"
   ]
  },
  {
   "cell_type": "code",
   "execution_count": 6,
   "id": "e75b6b16",
   "metadata": {},
   "outputs": [],
   "source": [
    "def tokenizer(texto) :\n",
    "    tokens = nlp(texto)\n",
    "    texto_tokenizado = []\n",
    "    for token in tokens:\n",
    "        if not token.is_stop:\n",
    "            lemma = token.lemma_.lower().strip()\n",
    "            if re.search('^[a-zA-Z]+$',lemma):\n",
    "                texto_tokenizado.append(lemma)\n",
    "    texto_tokenizado = \" \".join(texto_tokenizado)\n",
    "    return texto_tokenizado\n",
    "    "
   ]
  },
  {
   "cell_type": "markdown",
   "id": "dc06c14c",
   "metadata": {},
   "source": [
    "# 4 Definimos una función para evaluar sentimientos (NLTK)"
   ]
  },
  {
   "cell_type": "code",
   "execution_count": 7,
   "id": "db2f74a1",
   "metadata": {},
   "outputs": [],
   "source": [
    "sia = SentimentIntensityAnalyzer()"
   ]
  },
  {
   "cell_type": "code",
   "execution_count": 8,
   "id": "856616fa",
   "metadata": {},
   "outputs": [],
   "source": [
    "def sentiment(texto):\n",
    "    sia = SentimentIntensityAnalyzer()\n",
    "    polaridad = sia.polarity_scores(texto)\n",
    "    pol = polaridad[\"compound\"]\n",
    "    return pol"
   ]
  },
  {
   "cell_type": "markdown",
   "id": "a022eb99",
   "metadata": {},
   "source": [
    "# 5. Tokenizamos y evaluamos emotivamente los textos del DataFrame"
   ]
  },
  {
   "cell_type": "code",
   "execution_count": 9,
   "id": "de79e1ed",
   "metadata": {},
   "outputs": [
    {
     "data": {
      "text/html": [
       "<div>\n",
       "<style scoped>\n",
       "    .dataframe tbody tr th:only-of-type {\n",
       "        vertical-align: middle;\n",
       "    }\n",
       "\n",
       "    .dataframe tbody tr th {\n",
       "        vertical-align: top;\n",
       "    }\n",
       "\n",
       "    .dataframe thead th {\n",
       "        text-align: right;\n",
       "    }\n",
       "</style>\n",
       "<table border=\"1\" class=\"dataframe\">\n",
       "  <thead>\n",
       "    <tr style=\"text-align: right;\">\n",
       "      <th></th>\n",
       "      <th>Product_name</th>\n",
       "      <th>rating</th>\n",
       "      <th>rating_text</th>\n",
       "      <th>rating_title</th>\n",
       "      <th>recommended</th>\n",
       "      <th>username</th>\n",
       "      <th>date</th>\n",
       "      <th>year</th>\n",
       "      <th>month</th>\n",
       "      <th>day</th>\n",
       "      <th>rating_text_tokenized</th>\n",
       "      <th>sentiment_title</th>\n",
       "      <th>sentiment_text</th>\n",
       "      <th>sentiment_text_tokenized</th>\n",
       "    </tr>\n",
       "  </thead>\n",
       "  <tbody>\n",
       "    <tr>\n",
       "      <th>5304</th>\n",
       "      <td>Fire Tablet 7 Display Wi-Fi 8 GB - Includes Sp...</td>\n",
       "      <td>5.0</td>\n",
       "      <td>Was a christmas gift for my daughter she loves...</td>\n",
       "      <td>Christmas gift</td>\n",
       "      <td>True</td>\n",
       "      <td>Amylynn</td>\n",
       "      <td>2017-01-23</td>\n",
       "      <td>2017</td>\n",
       "      <td>1</td>\n",
       "      <td>23</td>\n",
       "      <td>christmas gift daughter love</td>\n",
       "      <td>0.4404</td>\n",
       "      <td>0.7650</td>\n",
       "      <td>0.7964</td>\n",
       "    </tr>\n",
       "    <tr>\n",
       "      <th>15500</th>\n",
       "      <td>Fire Kids Edition Tablet 7 Display Wi-Fi 16 GB...</td>\n",
       "      <td>4.0</td>\n",
       "      <td>Got this for my 3 year old son. He plays with ...</td>\n",
       "      <td>Good beginner tablet</td>\n",
       "      <td>True</td>\n",
       "      <td>Darkbrotha</td>\n",
       "      <td>2017-03-14</td>\n",
       "      <td>2017</td>\n",
       "      <td>3</td>\n",
       "      <td>14</td>\n",
       "      <td>get year old son play good introduce education...</td>\n",
       "      <td>0.4404</td>\n",
       "      <td>0.6542</td>\n",
       "      <td>0.6486</td>\n",
       "    </tr>\n",
       "    <tr>\n",
       "      <th>18170</th>\n",
       "      <td>Amazon Kindle Paperwhite - eBook reader - 4 GB...</td>\n",
       "      <td>5.0</td>\n",
       "      <td>Received this as a gift and is very useful. Ba...</td>\n",
       "      <td>Good one to have</td>\n",
       "      <td>True</td>\n",
       "      <td>Baskar</td>\n",
       "      <td>2016-05-20</td>\n",
       "      <td>2016</td>\n",
       "      <td>5</td>\n",
       "      <td>20</td>\n",
       "      <td>receive gift useful battery power stay atleast...</td>\n",
       "      <td>0.4404</td>\n",
       "      <td>0.7384</td>\n",
       "      <td>0.6808</td>\n",
       "    </tr>\n",
       "    <tr>\n",
       "      <th>13894</th>\n",
       "      <td>Fire Tablet 7 Display Wi-Fi 8 GB - Includes Sp...</td>\n",
       "      <td>5.0</td>\n",
       "      <td>I own the Kindle Fire HD 6 and love it...this ...</td>\n",
       "      <td>Affordable e-reader</td>\n",
       "      <td>True</td>\n",
       "      <td>Tarheelval</td>\n",
       "      <td>2015-11-30</td>\n",
       "      <td>2015</td>\n",
       "      <td>11</td>\n",
       "      <td>30</td>\n",
       "      <td>kindle fire hd love christmas gift friend hope...</td>\n",
       "      <td>0.0000</td>\n",
       "      <td>0.9633</td>\n",
       "      <td>0.9633</td>\n",
       "    </tr>\n",
       "    <tr>\n",
       "      <th>475</th>\n",
       "      <td>All-New Fire HD 8 Tablet 8 HD Display Wi-Fi 16...</td>\n",
       "      <td>4.0</td>\n",
       "      <td>I will be ordering Amazon fire for my two gran...</td>\n",
       "      <td>Great for beginners</td>\n",
       "      <td>True</td>\n",
       "      <td>Mila</td>\n",
       "      <td>2016-11-25</td>\n",
       "      <td>2016</td>\n",
       "      <td>11</td>\n",
       "      <td>25</td>\n",
       "      <td>order amazon fire granddaughter love</td>\n",
       "      <td>0.6249</td>\n",
       "      <td>0.5423</td>\n",
       "      <td>0.5423</td>\n",
       "    </tr>\n",
       "  </tbody>\n",
       "</table>\n",
       "</div>"
      ],
      "text/plain": [
       "                                            Product_name  rating  \\\n",
       "5304   Fire Tablet 7 Display Wi-Fi 8 GB - Includes Sp...     5.0   \n",
       "15500  Fire Kids Edition Tablet 7 Display Wi-Fi 16 GB...     4.0   \n",
       "18170  Amazon Kindle Paperwhite - eBook reader - 4 GB...     5.0   \n",
       "13894  Fire Tablet 7 Display Wi-Fi 8 GB - Includes Sp...     5.0   \n",
       "475    All-New Fire HD 8 Tablet 8 HD Display Wi-Fi 16...     4.0   \n",
       "\n",
       "                                             rating_text  \\\n",
       "5304   Was a christmas gift for my daughter she loves...   \n",
       "15500  Got this for my 3 year old son. He plays with ...   \n",
       "18170  Received this as a gift and is very useful. Ba...   \n",
       "13894  I own the Kindle Fire HD 6 and love it...this ...   \n",
       "475    I will be ordering Amazon fire for my two gran...   \n",
       "\n",
       "               rating_title  recommended    username        date  year  month  \\\n",
       "5304         Christmas gift         True     Amylynn  2017-01-23  2017      1   \n",
       "15500  Good beginner tablet         True  Darkbrotha  2017-03-14  2017      3   \n",
       "18170      Good one to have         True      Baskar  2016-05-20  2016      5   \n",
       "13894   Affordable e-reader         True  Tarheelval  2015-11-30  2015     11   \n",
       "475     Great for beginners         True        Mila  2016-11-25  2016     11   \n",
       "\n",
       "       day                              rating_text_tokenized  \\\n",
       "5304    23                       christmas gift daughter love   \n",
       "15500   14  get year old son play good introduce education...   \n",
       "18170   20  receive gift useful battery power stay atleast...   \n",
       "13894   30  kindle fire hd love christmas gift friend hope...   \n",
       "475     25               order amazon fire granddaughter love   \n",
       "\n",
       "       sentiment_title  sentiment_text  sentiment_text_tokenized  \n",
       "5304            0.4404          0.7650                    0.7964  \n",
       "15500           0.4404          0.6542                    0.6486  \n",
       "18170           0.4404          0.7384                    0.6808  \n",
       "13894           0.0000          0.9633                    0.9633  \n",
       "475             0.6249          0.5423                    0.5423  "
      ]
     },
     "execution_count": 9,
     "metadata": {},
     "output_type": "execute_result"
    }
   ],
   "source": [
    "ratingslist[\"rating_text_tokenized\"]    = ratingslist[\"rating_text\"].apply(tokenizer)\n",
    "ratingslist[\"sentiment_title\"]          = ratingslist[\"rating_title\"].apply(sentiment)\n",
    "ratingslist[\"sentiment_text\"]           = ratingslist[\"rating_text\"].apply(sentiment)\n",
    "ratingslist[\"sentiment_text_tokenized\"] = ratingslist[\"rating_text_tokenized\"].apply(sentiment)\n",
    "\n",
    "ratingslist.head()\n"
   ]
  },
  {
   "cell_type": "code",
   "execution_count": 10,
   "id": "602e84d4",
   "metadata": {},
   "outputs": [
    {
     "data": {
      "image/png": "[encoded data removed]",
      "text/plain": [
       "<Figure size 440.125x360 with 1 Axes>"
      ]
     },
     "metadata": {
      "needs_background": "light"
     },
     "output_type": "display_data"
    }
   ],
   "source": [
    "sns.catplot(x=\"rating\", y=\"sentiment_text_tokenized\", hue=\"recommended\",data=ratingslist);"
   ]
  },
  {
   "cell_type": "code",
   "execution_count": 11,
   "id": "36c8bdae",
   "metadata": {},
   "outputs": [
    {
     "data": {
      "image/png": "[encoded data removed]",
      "text/plain": [
       "<Figure size 440.125x360 with 1 Axes>"
      ]
     },
     "metadata": {
      "needs_background": "light"
     },
     "output_type": "display_data"
    }
   ],
   "source": [
    "sns.catplot(x=\"rating\", y=\"sentiment_text\", hue=\"recommended\",data=ratingslist);"
   ]
  },
  {
   "cell_type": "code",
   "execution_count": 12,
   "id": "1b0c657d",
   "metadata": {},
   "outputs": [
    {
     "data": {
      "image/png": "[encoded data removed]",
      "text/plain": [
       "<Figure size 440.125x360 with 1 Axes>"
      ]
     },
     "metadata": {
      "needs_background": "light"
     },
     "output_type": "display_data"
    }
   ],
   "source": [
    "sns.catplot(x=\"rating\", y=\"sentiment_title\", hue=\"recommended\",data=ratingslist);"
   ]
  },
  {
   "cell_type": "code",
   "execution_count": null,
   "id": "3376d659",
   "metadata": {},
   "outputs": [],
   "source": []
  }
 ],
 "metadata": {
  "kernelspec": {
   "display_name": "ironhack",
   "language": "python",
   "name": "ironhack"
  },
  "language_info": {
   "codemirror_mode": {
    "name": "ipython",
    "version": 3
   },
   "file_extension": ".py",
   "mimetype": "text/x-python",
   "name": "python",
   "nbconvert_exporter": "python",
   "pygments_lexer": "ipython3",
   "version": "3.8.5"
  }
 },
 "nbformat": 4,
 "nbformat_minor": 5
}
