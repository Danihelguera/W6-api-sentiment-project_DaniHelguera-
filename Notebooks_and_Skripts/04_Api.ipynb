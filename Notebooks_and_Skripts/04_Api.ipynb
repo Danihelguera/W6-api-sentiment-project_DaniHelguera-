{
 "cells": [
  {
   "cell_type": "code",
   "execution_count": null,
   "id": "041a54f3",
   "metadata": {},
   "outputs": [],
   "source": [
    "import requests"
   ]
  },
  {
   "cell_type": "code",
   "execution_count": null,
   "id": "5ad2aec1",
   "metadata": {},
   "outputs": [],
   "source": [
    "requests.get(\"http://127.0.0.1:5000/dado\").headers"
   ]
  }
 ],
 "metadata": {
  "kernelspec": {
   "display_name": "ironhack",
   "language": "python",
   "name": "ironhack"
  },
  "language_info": {
   "codemirror_mode": {
    "name": "ipython",
    "version": 3
   },
   "file_extension": ".py",
   "mimetype": "text/x-python",
   "name": "python",
   "nbconvert_exporter": "python",
   "pygments_lexer": "ipython3",
   "version": "3.8.5"
  }
 },
 "nbformat": 4,
 "nbformat_minor": 5
}
